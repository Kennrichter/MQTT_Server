{
 "cells": [
  {
   "cell_type": "code",
   "execution_count": null,
   "metadata": {},
   "outputs": [],
   "source": [
    "import paho.mqtt.client as mqtt\n",
    "import json\n",
    "import time"
   ]
  },
  {
   "cell_type": "code",
   "execution_count": null,
   "metadata": {},
   "outputs": [],
   "source": [
    "#Konfiguration\n",
    "mqtt_broker = \"4.184.199.231\"\n",
    "mqtt_port = 1883\n",
    "topics_to_subscribe = [\n",
    "    (\"devices/mack_multisensor-1_json\", 0),\n",
    "    (\"hello world\", 0)\n",
    "]\n",
    "mqtt_username = \"admin\"\n",
    "mqtt_password = \"hasenpasswort\"\n",
    "thingsboard_host = \"20.218.87.198\" \n",
    "thingsboard_port = 8080\n",
    "device_token = \"gxU5OxAG1GTmN0SkLMxw\""
   ]
  },
  {
   "cell_type": "code",
   "execution_count": null,
   "metadata": {},
   "outputs": [],
   "source": [
    "#Callback-Funktion für erfolgreiche Verbindung\n",
    "def on_connect(client, userdata, flags, rc):\n",
    "    if rc == 0:\n",
    "        print(\"Verbunden mit MQTT Broker mit Code =\", rc)\n",
    "        client.subscribe(topics_to_subscribe)\n",
    "    else:\n",
    "        print(\"Schlechte Verbindung, Fehlercode =\", rc)"
   ]
  },
  {
   "cell_type": "code",
   "execution_count": null,
   "metadata": {},
   "outputs": [],
   "source": [
    "#Callback-Funktion für den Empfang einer Nachricht\n",
    "def on_message(client, userdata, msg):\n",
    "    print(f\"Nachricht erhalten: {msg.topic} {str(msg.payload)}\")\n",
    "    tb_client.publish(\"v1/devices/me/telemetry\", msg.payload)"
   ]
  },
  {
   "cell_type": "code",
   "execution_count": null,
   "metadata": {},
   "outputs": [],
   "source": [
    "mqtt_client = mqtt.Client()\n",
    "mqtt_client.username_pw_set(mqtt_username, mqtt_password)\n",
    "mqtt_client.on_connect = on_connect\n",
    "mqtt_client.on_message = on_message\n",
    "mqtt_client.connect(mqtt_broker, mqtt_port, 1883)"
   ]
  },
  {
   "cell_type": "code",
   "execution_count": null,
   "metadata": {},
   "outputs": [],
   "source": [
    "tb_client = mqtt.Client()\n",
    "tb_client.username_pw_set(device_token)\n",
    "tb_client.connect(thingsboard_host, thingsboard_port, 8080)"
   ]
  },
  {
   "cell_type": "code",
   "execution_count": null,
   "metadata": {},
   "outputs": [],
   "source": [
    "# Startet den Loop\n",
    "mqtt_client.loop_start()\n",
    "tb_client.loop_start()\n",
    "\n",
    "while True:\n",
    "    time.sleep(10)"
   ]
  }
 ],
 "metadata": {
  "kernelspec": {
   "display_name": "Python 3",
   "language": "python",
   "name": "python3"
  },
  "language_info": {
   "name": "python",
   "version": "3.11.3"
  }
 },
 "nbformat": 4,
 "nbformat_minor": 2
}
